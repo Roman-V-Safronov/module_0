{
 "cells": [
  {
   "cell_type": "code",
   "execution_count": null,
   "metadata": {},
   "outputs": [],
   "source": []
  },
  {
   "cell_type": "code",
   "execution_count": 12,
   "metadata": {},
   "outputs": [
    {
     "name": "stdout",
     "output_type": "stream",
     "text": [
      "Ваш алгоритм угадывает число в среднем за 5 попыток\n"
     ]
    },
    {
     "data": {
      "text/plain": [
       "5"
      ]
     },
     "execution_count": 12,
     "metadata": {},
     "output_type": "execute_result"
    }
   ],
   "source": [
    "import numpy as np\n",
    "\n",
    "def game_core_vr(number):\n",
    "    # Как поймать льва в пустыне? Делим пустыню пополам; смотрим, в какой половине оказался лев; повторяем\n",
    "    # Функция упрощённая - границы пустыни известны заранее, а не переданы извне\n",
    "    left = 1\n",
    "    right = 100\n",
    "    lion = 50 # int((left + right)/2)\n",
    "    old_lion = lion\n",
    "    count = 1\n",
    "    while number != lion:\n",
    "        old_lion = lion\n",
    "        count += 1\n",
    "        if lion > number:\n",
    "            right = lion\n",
    "        else: # вариант \"кусь!\", когда мы наткнулись на загаданное число - отловлен в условии цикла\n",
    "            left = lion\n",
    "        lion = int((left + right)/2)\n",
    "        if lion == right and old_lion == lion: #ловушка бесконечного последнего шага, когда пустыня сжимается до [1,2]\n",
    "            lion = left\n",
    "        elif lion == left and old_lion == lion:\n",
    "            lion = right\n",
    "    return(count) # выход из цикла, если угадали\n",
    "        \n",
    "def score_game(game_core):\n",
    "    '''Запускаем игру 1000 раз, чтобы узнать, как быстро игра угадывает число'''\n",
    "    count_ls = []\n",
    "    np.random.seed(1)  # фиксируем RANDOM SEED, чтобы ваш эксперимент был воспроизводим!\n",
    "    random_array = np.random.randint(1,101, size=(1000))\n",
    "    for number in random_array:\n",
    "        count_ls.append(game_core(number))\n",
    "    score = int(np.mean(count_ls))\n",
    "    print(f\"Ваш алгоритм угадывает число в среднем за {score} попыток\")\n",
    "    return(score)\n",
    "# запускаем\n",
    "score_game(game_core_vr)"
   ]
  },
  {
   "cell_type": "code",
   "execution_count": null,
   "metadata": {},
   "outputs": [],
   "source": []
  },
  {
   "cell_type": "code",
   "execution_count": null,
   "metadata": {},
   "outputs": [],
   "source": []
  }
 ],
 "metadata": {
  "kernelspec": {
   "display_name": "Python 3",
   "language": "python",
   "name": "python3"
  },
  "language_info": {
   "codemirror_mode": {
    "name": "ipython",
    "version": 3
   },
   "file_extension": ".py",
   "mimetype": "text/x-python",
   "name": "python",
   "nbconvert_exporter": "python",
   "pygments_lexer": "ipython3",
   "version": "3.8.5"
  }
 },
 "nbformat": 4,
 "nbformat_minor": 4
}
